{
 "cells": [
  {
   "cell_type": "code",
   "execution_count": null,
   "id": "5744ca8f-f868-477b-ba8f-62b1aa631f78",
   "metadata": {},
   "outputs": [],
   "source": [
    "import pandas as pd"
   ]
  },
  {
   "cell_type": "code",
   "execution_count": null,
   "id": "3b514c0f",
   "metadata": {},
   "outputs": [],
   "source": [
    "from splitwise_sync.config import RAW_DIR, PROCESSED_DIR\n",
    "from splitwise_sync.core.models import Transaction"
   ]
  },
  {
   "cell_type": "markdown",
   "id": "c3737dc5",
   "metadata": {},
   "source": [
    "# Reading data"
   ]
  },
  {
   "cell_type": "code",
   "execution_count": null,
   "id": "abe2dee3",
   "metadata": {},
   "outputs": [],
   "source": [
    "from splitwise_sync.ml.cleaning import read_expenses\n",
    "import json\n",
    "\n",
    "\n",
    "def get_transaction_details(expense_details: str) -> dict:\n",
    "    \"\"\"Get transaction details from the expense details string.\"\"\"\n",
    "\n",
    "    if not isinstance(expense_details, str):\n",
    "        return None\n",
    "\n",
    "    lines = expense_details.splitlines()\n",
    "    if len(lines) == 0:\n",
    "        return None\n",
    "\n",
    "    lastline = lines[-1]\n",
    "    try:\n",
    "        t = json.loads(lastline)\n",
    "        return Transaction(**t)\n",
    "    except TypeError:\n",
    "        return None\n",
    "    except json.JSONDecodeError:\n",
    "        return None\n",
    "\n",
    "\n",
    "def read_expenses_feedback(path: str) -> pd.DataFrame:\n",
    "    \"\"\"Read the expenses feedback from a JSON file.\"\"\"\n",
    "    df = read_expenses(path)\n",
    "    df[\"transaction\"] = df[\"expense_details\"].map(get_transaction_details)\n",
    "    df = df[df[\"transaction\"].notna()]\n",
    "    transactions = df[\"transaction\"].apply(lambda x: x.to_series())\n",
    "    ans = pd.concat([df.drop(columns=[\"transaction\"]), transactions], axis=1)\n",
    "    ans[\"is_shared\"] = ans[\"expense_deleted_at\"].notna()\n",
    "    return ans\n",
    "\n",
    "\n",
    "expenses_feedback = read_expenses_feedback(str(RAW_DIR / \"dump-splitwise.json\"))\n",
    "expenses_feedback"
   ]
  },
  {
   "cell_type": "code",
   "execution_count": null,
   "id": "0891a43b",
   "metadata": {},
   "outputs": [],
   "source": [
    "expenses_feedback.to_pickle(PROCESSED_DIR / \"expenses_feedback.pkl\")"
   ]
  },
  {
   "cell_type": "code",
   "execution_count": null,
   "id": "a6c106f8",
   "metadata": {},
   "outputs": [],
   "source": [
    "matched_transactions_locs = pd.read_pickle(\n",
    "    PROCESSED_DIR / \"matched_transactions_locs.pkl\"\n",
    ")"
   ]
  },
  {
   "cell_type": "code",
   "execution_count": null,
   "id": "73f4d75b",
   "metadata": {},
   "outputs": [],
   "source": [
    "matched_transactions_with_feedback = pd.concat(\n",
    "    [expenses_feedback, matched_transactions_locs], axis=0, ignore_index=True\n",
    ")\n",
    "matched_transactions_with_feedback"
   ]
  },
  {
   "cell_type": "code",
   "execution_count": null,
   "id": "0b9b05d9",
   "metadata": {},
   "outputs": [],
   "source": [
    "matched_transactions_with_feedback.to_pickle(\n",
    "    PROCESSED_DIR / \"matched_transactions_locs_with_feedback.pkl\"\n",
    ")"
   ]
  },
  {
   "cell_type": "code",
   "execution_count": null,
   "id": "3a994a07",
   "metadata": {},
   "outputs": [],
   "source": []
  }
 ],
 "metadata": {
  "kernelspec": {
   "display_name": "datascience",
   "language": "python",
   "name": "python3"
  },
  "language_info": {
   "codemirror_mode": {
    "name": "ipython",
    "version": 3
   },
   "file_extension": ".py",
   "mimetype": "text/x-python",
   "name": "python",
   "nbconvert_exporter": "python",
   "pygments_lexer": "ipython3",
   "version": "3.12.4"
  }
 },
 "nbformat": 4,
 "nbformat_minor": 5
}
