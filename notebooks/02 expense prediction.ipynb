{
 "cells": [
  {
   "cell_type": "code",
   "execution_count": null,
   "id": "5744ca8f-f868-477b-ba8f-62b1aa631f78",
   "metadata": {},
   "outputs": [],
   "source": [
    "import pandas as pd"
   ]
  },
  {
   "cell_type": "code",
   "execution_count": null,
   "id": "fc75daa9",
   "metadata": {},
   "outputs": [],
   "source": [
    "matched_transactions_locs = pd.read_pickle(\"processed/matched_transactions_locs.pkl\")"
   ]
  },
  {
   "cell_type": "markdown",
   "id": "231e4c9a",
   "metadata": {},
   "source": [
    "# Model to predict personal or shared transaction\n",
    "\n",
    "1. Tag expenses as personal or shared using Splitwise\n",
    "1a. Tag deleted expenses as feedback for not shared \n"
   ]
  },
  {
   "cell_type": "code",
   "execution_count": null,
   "id": "b6f927ab",
   "metadata": {},
   "outputs": [],
   "source": [
    "df = matched_transactions_locs.copy()"
   ]
  },
  {
   "cell_type": "code",
   "execution_count": null,
   "id": "a3699f41",
   "metadata": {},
   "outputs": [],
   "source": [
    "df.columns"
   ]
  },
  {
   "cell_type": "code",
   "execution_count": null,
   "id": "2304c11e",
   "metadata": {},
   "outputs": [],
   "source": [
    "input_features = [\n",
    "    \"transaction_cost\",\n",
    "    \"transaction_date\",\n",
    "    \"transaction_description\",\n",
    "    \"is_shared\",\n",
    "]\n",
    "df[df[\"is_shared\"]][input_features]"
   ]
  },
  {
   "cell_type": "code",
   "execution_count": null,
   "id": "10b25fbf",
   "metadata": {},
   "outputs": [],
   "source": [
    "df = df[input_features]"
   ]
  },
  {
   "cell_type": "code",
   "execution_count": null,
   "id": "54e0dcdf",
   "metadata": {},
   "outputs": [],
   "source": [
    "df[\"transaction_description\"].unique()"
   ]
  },
  {
   "cell_type": "code",
   "execution_count": null,
   "id": "e17c6d56",
   "metadata": {},
   "outputs": [],
   "source": [
    "from sklearn.pipeline import make_pipeline\n",
    "\n",
    "import matplotlib.pyplot as plt\n",
    "from sklearn.model_selection import train_test_split\n",
    "from sklearn.tree import DecisionTreeClassifier, plot_tree\n",
    "from sklearn.metrics import classification_report, confusion_matrix, accuracy_score"
   ]
  },
  {
   "cell_type": "code",
   "execution_count": null,
   "id": "00573c97",
   "metadata": {},
   "outputs": [],
   "source": [
    "from splitwise_sync.ml.preprocessing import build_preprocess\n",
    "\n",
    "pipeline = make_pipeline(\n",
    "    build_preprocess(),\n",
    "    DecisionTreeClassifier(\n",
    "        max_depth=6, min_samples_split=5, random_state=42, min_samples_leaf=5\n",
    "    ),\n",
    ")\n",
    "pipeline"
   ]
  },
  {
   "cell_type": "code",
   "execution_count": null,
   "id": "3c1d4ba5",
   "metadata": {},
   "outputs": [],
   "source": [
    "X = df[input_features].copy().drop(columns=[\"is_shared\"])\n",
    "y = df[\"is_shared\"].copy()\n",
    "\n",
    "X_train, X_test, y_train, y_test = train_test_split(\n",
    "    X, y, test_size=0.3, random_state=42, stratify=y\n",
    ")\n",
    "\n",
    "pipeline.fit(X_train, y_train)\n",
    "\n",
    "# Transform the training data and get feature names for dataviz\n",
    "transformed_data = pipeline[:-1].transform(X_train)\n",
    "feature_names = pipeline[-2].get_feature_names_out()\n",
    "\n",
    "# Make predictions on the test set\n",
    "y_pred = pipeline.predict(X_test)\n",
    "\n",
    "# Evaluate the model\n",
    "print(f\"Accuracy: {accuracy_score(y_test, y_pred):.4f}\")\n",
    "print(\"\\nClassification Report:\")\n",
    "print(classification_report(y_test, y_pred))\n",
    "\n",
    "# Confusion Matrix\n",
    "cm = confusion_matrix(y_test, y_pred)\n",
    "print(\"\\nConfusion Matrix:\")\n",
    "print(cm)"
   ]
  },
  {
   "cell_type": "code",
   "execution_count": null,
   "id": "787867be",
   "metadata": {},
   "outputs": [],
   "source": [
    "# Visualize the decision tree\n",
    "feature_names_simple = [feat.split(\"__\")[-1] for feat in feature_names]\n",
    "\n",
    "dt_classifier = pipeline[-1]\n",
    "plt.figure(figsize=(20, 10))\n",
    "plot_tree(\n",
    "    dt_classifier,\n",
    "    filled=True,\n",
    "    feature_names=feature_names_simple,\n",
    "    class_names=[\"Personal\", \"Shared\"],\n",
    "    rounded=True,\n",
    "    fontsize=7,\n",
    ")\n",
    "plt.title(\"Decision Tree for Transaction Classification\")\n",
    "plt.show()\n",
    "\n",
    "# Feature importance\n",
    "feature_importance = pd.DataFrame(\n",
    "    {\"Feature\": feature_names, \"Importance\": dt_classifier.feature_importances_}\n",
    ")\n",
    "\n",
    "# Sort by importance\n",
    "feature_importance = feature_importance.sort_values(\n",
    "    \"Importance\", ascending=False\n",
    ").reset_index(drop=True)\n",
    "print(\"Feature Importance:\")\n",
    "display(feature_importance.head(15))\n",
    "\n",
    "# Plot feature importance\n",
    "plt.figure(figsize=(12, 8))\n",
    "plt.barh(\n",
    "    feature_importance[\"Feature\"].head(15), feature_importance[\"Importance\"].head(15)\n",
    ")\n",
    "plt.xlabel(\"Importance\")\n",
    "plt.title(\"Top 15 Feature Importance\")\n",
    "plt.gca().invert_yaxis()  # Invert to have highest importance at the top\n",
    "plt.show()"
   ]
  },
  {
   "cell_type": "code",
   "execution_count": null,
   "id": "5065b2b0",
   "metadata": {},
   "outputs": [],
   "source": []
  },
  {
   "cell_type": "code",
   "execution_count": null,
   "id": "d0cc7f0c",
   "metadata": {},
   "outputs": [],
   "source": [
    "import joblib\n",
    "\n",
    "pipeline.fit(X, y)  # with all the data\n",
    "joblib.dump(pipeline, \"models/decision_tree_model.pkl\")"
   ]
  },
  {
   "cell_type": "code",
   "execution_count": null,
   "id": "abe2dee3",
   "metadata": {},
   "outputs": [],
   "source": []
  }
 ],
 "metadata": {
  "kernelspec": {
   "display_name": "datascience",
   "language": "python",
   "name": "python3"
  },
  "language_info": {
   "codemirror_mode": {
    "name": "ipython",
    "version": 3
   },
   "file_extension": ".py",
   "mimetype": "text/x-python",
   "name": "python",
   "nbconvert_exporter": "python",
   "pygments_lexer": "ipython3",
   "version": "3.12.4"
  }
 },
 "nbformat": 4,
 "nbformat_minor": 5
}
